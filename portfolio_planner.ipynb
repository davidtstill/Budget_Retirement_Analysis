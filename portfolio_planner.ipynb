{
 "cells": [
  {
   "cell_type": "code",
   "execution_count": 1,
   "metadata": {},
   "outputs": [],
   "source": [
    "# Import libraries and dependencies\n",
    "import numpy as np\n",
    "import pandas as pd\n",
    "import os\n",
    "from datetime import datetime, timedelta\n",
    "import matplotlib.pyplot as plt\n",
    "import alpaca_trade_api as tradeapi\n",
    "%matplotlib inline"
   ]
  },
  {
   "cell_type": "code",
   "execution_count": 2,
   "metadata": {},
   "outputs": [],
   "source": [
    "np.random.seed(42)"
   ]
  },
  {
   "cell_type": "markdown",
   "metadata": {},
   "source": [
    "# Portfolio Planner\n",
    "\n",
    "In this activity, you will use the Alpaca api to grab historical data for a 60/40 portfolio using `SPY` to represent the stock portion and `AGG` to represent the bonds."
   ]
  },
  {
   "cell_type": "code",
   "execution_count": 3,
   "metadata": {},
   "outputs": [],
   "source": [
    "# Load .env enviroment variables\n",
    "from dotenv import load_dotenv\n",
    "load_dotenv()\n",
    "\n",
    "# Set Alpaca API key and secret\n",
    "alpaca_api_key = os.getenv(\"ALPACA_API_KEY\")\n",
    "alpaca_secret_key = os.getenv(\"ALPACA_SECRET_KEY\")\n",
    "\n",
    "# api = tradeapi.REST()\n",
    "api = tradeapi.REST(alpaca_api_key, alpaca_secret_key, api_version='v2')"
   ]
  },
  {
   "cell_type": "markdown",
   "metadata": {},
   "source": [
    "# Data Collection\n",
    "\n",
    "In this step, you will need to use the Alpaca api to fetch closing prices for the `SPY` and `AGG` tickers. Save the results as a pandas DataFrame"
   ]
  },
  {
   "cell_type": "code",
   "execution_count": 4,
   "metadata": {},
   "outputs": [
    {
     "data": {
      "text/html": [
       "<div>\n",
       "<style scoped>\n",
       "    .dataframe tbody tr th:only-of-type {\n",
       "        vertical-align: middle;\n",
       "    }\n",
       "\n",
       "    .dataframe tbody tr th {\n",
       "        vertical-align: top;\n",
       "    }\n",
       "\n",
       "    .dataframe thead tr th {\n",
       "        text-align: left;\n",
       "    }\n",
       "</style>\n",
       "<table border=\"1\" class=\"dataframe\">\n",
       "  <thead>\n",
       "    <tr>\n",
       "      <th></th>\n",
       "      <th colspan=\"5\" halign=\"left\">AGG</th>\n",
       "      <th colspan=\"5\" halign=\"left\">SPY</th>\n",
       "    </tr>\n",
       "    <tr>\n",
       "      <th></th>\n",
       "      <th>open</th>\n",
       "      <th>high</th>\n",
       "      <th>low</th>\n",
       "      <th>close</th>\n",
       "      <th>volume</th>\n",
       "      <th>open</th>\n",
       "      <th>high</th>\n",
       "      <th>low</th>\n",
       "      <th>close</th>\n",
       "      <th>volume</th>\n",
       "    </tr>\n",
       "  </thead>\n",
       "  <tbody>\n",
       "    <tr>\n",
       "      <th>2019-12-02 00:00:00-05:00</th>\n",
       "      <td>112.31</td>\n",
       "      <td>112.5100</td>\n",
       "      <td>112.29</td>\n",
       "      <td>112.48</td>\n",
       "      <td>5720136</td>\n",
       "      <td>314.327</td>\n",
       "      <td>314.37</td>\n",
       "      <td>311.17</td>\n",
       "      <td>311.60</td>\n",
       "      <td>61594879</td>\n",
       "    </tr>\n",
       "    <tr>\n",
       "      <th>2019-12-03 00:00:00-05:00</th>\n",
       "      <td>112.80</td>\n",
       "      <td>113.1277</td>\n",
       "      <td>112.76</td>\n",
       "      <td>113.02</td>\n",
       "      <td>3547417</td>\n",
       "      <td>308.650</td>\n",
       "      <td>309.64</td>\n",
       "      <td>307.13</td>\n",
       "      <td>309.47</td>\n",
       "      <td>62363983</td>\n",
       "    </tr>\n",
       "    <tr>\n",
       "      <th>2019-12-04 00:00:00-05:00</th>\n",
       "      <td>112.87</td>\n",
       "      <td>112.9500</td>\n",
       "      <td>112.68</td>\n",
       "      <td>112.80</td>\n",
       "      <td>3547118</td>\n",
       "      <td>310.700</td>\n",
       "      <td>312.12</td>\n",
       "      <td>310.32</td>\n",
       "      <td>311.47</td>\n",
       "      <td>37810887</td>\n",
       "    </tr>\n",
       "    <tr>\n",
       "      <th>2019-12-05 00:00:00-05:00</th>\n",
       "      <td>112.58</td>\n",
       "      <td>112.7400</td>\n",
       "      <td>112.53</td>\n",
       "      <td>112.69</td>\n",
       "      <td>3052489</td>\n",
       "      <td>312.230</td>\n",
       "      <td>312.25</td>\n",
       "      <td>310.58</td>\n",
       "      <td>312.05</td>\n",
       "      <td>34436972</td>\n",
       "    </tr>\n",
       "    <tr>\n",
       "      <th>2019-12-06 00:00:00-05:00</th>\n",
       "      <td>112.47</td>\n",
       "      <td>112.6800</td>\n",
       "      <td>112.41</td>\n",
       "      <td>112.54</td>\n",
       "      <td>4065089</td>\n",
       "      <td>314.120</td>\n",
       "      <td>315.31</td>\n",
       "      <td>314.11</td>\n",
       "      <td>314.84</td>\n",
       "      <td>37930796</td>\n",
       "    </tr>\n",
       "  </tbody>\n",
       "</table>\n",
       "</div>"
      ],
      "text/plain": [
       "                              AGG                                         SPY  \\\n",
       "                             open      high     low   close   volume     open   \n",
       "2019-12-02 00:00:00-05:00  112.31  112.5100  112.29  112.48  5720136  314.327   \n",
       "2019-12-03 00:00:00-05:00  112.80  113.1277  112.76  113.02  3547417  308.650   \n",
       "2019-12-04 00:00:00-05:00  112.87  112.9500  112.68  112.80  3547118  310.700   \n",
       "2019-12-05 00:00:00-05:00  112.58  112.7400  112.53  112.69  3052489  312.230   \n",
       "2019-12-06 00:00:00-05:00  112.47  112.6800  112.41  112.54  4065089  314.120   \n",
       "\n",
       "                                                             \n",
       "                             high     low   close    volume  \n",
       "2019-12-02 00:00:00-05:00  314.37  311.17  311.60  61594879  \n",
       "2019-12-03 00:00:00-05:00  309.64  307.13  309.47  62363983  \n",
       "2019-12-04 00:00:00-05:00  312.12  310.32  311.47  37810887  \n",
       "2019-12-05 00:00:00-05:00  312.25  310.58  312.05  34436972  \n",
       "2019-12-06 00:00:00-05:00  315.31  314.11  314.84  37930796  "
      ]
     },
     "execution_count": 4,
     "metadata": {},
     "output_type": "execute_result"
    }
   ],
   "source": [
    "list_of_tickers = [\"SPY\", \"AGG\"]\n",
    "# YOUR CODE HERE\n",
    "\n",
    "# Set timeframe to '1D'\n",
    "timeframe = '1D'\n",
    "\n",
    "# Set start and end datetimes of 1 year, between now and 365 days ago.\n",
    "end_date = datetime.now()\n",
    "start_date = end_date + timedelta(-365)\n",
    "\n",
    "# Get 1 year's worth of historical data for AAPL\n",
    "df = api.get_barset(\n",
    "    list_of_tickers,\n",
    "    timeframe,\n",
    "    limit=None,\n",
    "    start=start_date,\n",
    "    end=end_date,\n",
    "    after=None,\n",
    "    until=None,\n",
    ").df\n",
    "\n",
    "df.head()"
   ]
  },
  {
   "cell_type": "code",
   "execution_count": 5,
   "metadata": {},
   "outputs": [
    {
     "data": {
      "text/html": [
       "<div>\n",
       "<style scoped>\n",
       "    .dataframe tbody tr th:only-of-type {\n",
       "        vertical-align: middle;\n",
       "    }\n",
       "\n",
       "    .dataframe tbody tr th {\n",
       "        vertical-align: top;\n",
       "    }\n",
       "\n",
       "    .dataframe thead tr th {\n",
       "        text-align: left;\n",
       "    }\n",
       "</style>\n",
       "<table border=\"1\" class=\"dataframe\">\n",
       "  <thead>\n",
       "    <tr>\n",
       "      <th></th>\n",
       "      <th>AGG</th>\n",
       "      <th>SPY</th>\n",
       "    </tr>\n",
       "    <tr>\n",
       "      <th></th>\n",
       "      <th>close</th>\n",
       "      <th>close</th>\n",
       "    </tr>\n",
       "  </thead>\n",
       "  <tbody>\n",
       "    <tr>\n",
       "      <th>2020-04-20 00:00:00-04:00</th>\n",
       "      <td>117.10</td>\n",
       "      <td>281.61</td>\n",
       "    </tr>\n",
       "    <tr>\n",
       "      <th>2020-04-21 00:00:00-04:00</th>\n",
       "      <td>117.17</td>\n",
       "      <td>273.02</td>\n",
       "    </tr>\n",
       "    <tr>\n",
       "      <th>2020-04-22 00:00:00-04:00</th>\n",
       "      <td>117.09</td>\n",
       "      <td>279.91</td>\n",
       "    </tr>\n",
       "    <tr>\n",
       "      <th>2020-04-23 00:00:00-04:00</th>\n",
       "      <td>117.39</td>\n",
       "      <td>279.06</td>\n",
       "    </tr>\n",
       "    <tr>\n",
       "      <th>2020-04-24 00:00:00-04:00</th>\n",
       "      <td>117.35</td>\n",
       "      <td>283.04</td>\n",
       "    </tr>\n",
       "  </tbody>\n",
       "</table>\n",
       "</div>"
      ],
      "text/plain": [
       "                              AGG     SPY\n",
       "                            close   close\n",
       "2020-04-20 00:00:00-04:00  117.10  281.61\n",
       "2020-04-21 00:00:00-04:00  117.17  273.02\n",
       "2020-04-22 00:00:00-04:00  117.09  279.91\n",
       "2020-04-23 00:00:00-04:00  117.39  279.06\n",
       "2020-04-24 00:00:00-04:00  117.35  283.04"
      ]
     },
     "execution_count": 5,
     "metadata": {},
     "output_type": "execute_result"
    }
   ],
   "source": [
    "df.drop(columns=['open', 'high', 'low', 'volume'], level=1, inplace=True)\n",
    "df.tail()"
   ]
  },
  {
   "cell_type": "markdown",
   "metadata": {},
   "source": [
    "# Monte Carlo Simulation\n",
    "\n",
    "In this step, you will run Monte Carlo Simulations for your portfolio to model portfolio performance at different retirement ages. \n",
    "\n",
    "Complete the following steps:\n",
    "1. Calculate the daily returns for the SPY and AGG closing prices.\n",
    "2. Calculate volatility for both the SPY and AGG closing prices.\n",
    "3. Find the last day's closing price for both stocks and save those as variables.\n",
    "4. Run a Monte Carlo Simulation of at least 500 iterations and generate at least 30 years of closing prices\n",
    "\n",
    "### HINTS:\n",
    "There are 252 trading days per year, so the number of records to generate for each Monte Carlo run will be 252 days * 30 years"
   ]
  },
  {
   "cell_type": "code",
   "execution_count": 6,
   "metadata": {},
   "outputs": [
    {
     "data": {
      "text/html": [
       "<div>\n",
       "<style scoped>\n",
       "    .dataframe tbody tr th:only-of-type {\n",
       "        vertical-align: middle;\n",
       "    }\n",
       "\n",
       "    .dataframe tbody tr th {\n",
       "        vertical-align: top;\n",
       "    }\n",
       "\n",
       "    .dataframe thead tr th {\n",
       "        text-align: left;\n",
       "    }\n",
       "</style>\n",
       "<table border=\"1\" class=\"dataframe\">\n",
       "  <thead>\n",
       "    <tr>\n",
       "      <th></th>\n",
       "      <th>AGG</th>\n",
       "      <th>SPY</th>\n",
       "    </tr>\n",
       "    <tr>\n",
       "      <th></th>\n",
       "      <th>close</th>\n",
       "      <th>close</th>\n",
       "    </tr>\n",
       "  </thead>\n",
       "  <tbody>\n",
       "    <tr>\n",
       "      <th>2019-12-02 00:00:00-05:00</th>\n",
       "      <td>NaN</td>\n",
       "      <td>NaN</td>\n",
       "    </tr>\n",
       "    <tr>\n",
       "      <th>2019-12-03 00:00:00-05:00</th>\n",
       "      <td>0.004801</td>\n",
       "      <td>-0.006836</td>\n",
       "    </tr>\n",
       "    <tr>\n",
       "      <th>2019-12-04 00:00:00-05:00</th>\n",
       "      <td>-0.001947</td>\n",
       "      <td>0.006463</td>\n",
       "    </tr>\n",
       "    <tr>\n",
       "      <th>2019-12-05 00:00:00-05:00</th>\n",
       "      <td>-0.000975</td>\n",
       "      <td>0.001862</td>\n",
       "    </tr>\n",
       "    <tr>\n",
       "      <th>2019-12-06 00:00:00-05:00</th>\n",
       "      <td>-0.001331</td>\n",
       "      <td>0.008941</td>\n",
       "    </tr>\n",
       "  </tbody>\n",
       "</table>\n",
       "</div>"
      ],
      "text/plain": [
       "                                AGG       SPY\n",
       "                              close     close\n",
       "2019-12-02 00:00:00-05:00       NaN       NaN\n",
       "2019-12-03 00:00:00-05:00  0.004801 -0.006836\n",
       "2019-12-04 00:00:00-05:00 -0.001947  0.006463\n",
       "2019-12-05 00:00:00-05:00 -0.000975  0.001862\n",
       "2019-12-06 00:00:00-05:00 -0.001331  0.008941"
      ]
     },
     "execution_count": 6,
     "metadata": {},
     "output_type": "execute_result"
    }
   ],
   "source": [
    "# Calculate the daily roi for the stocks\n",
    "# YOUR CODE HERE\n",
    "\n",
    "daily_returns = df.pct_change()\n",
    "daily_returns.head()"
   ]
  },
  {
   "cell_type": "code",
   "execution_count": 7,
   "metadata": {},
   "outputs": [],
   "source": [
    "avg_daily_return_agg = daily_returns.mean()['AGG']['close']\n",
    "avg_daily_return_spy = daily_returns.mean()['SPY']['close']"
   ]
  },
  {
   "cell_type": "code",
   "execution_count": 8,
   "metadata": {},
   "outputs": [],
   "source": [
    "# Calculate volatility\n",
    "# YOUR CODE HERE\n",
    "\n",
    "std_dev_daily_return_agg = daily_returns.std()['AGG']['close']\n",
    "std_dev_daily_return_spy = daily_returns.std()['SPY']['close']"
   ]
  },
  {
   "cell_type": "code",
   "execution_count": 9,
   "metadata": {},
   "outputs": [],
   "source": [
    "# Save the last day's closing price\n",
    "# YOUR CODE HERE\n",
    "\n",
    "agg_last_price = df['AGG']['close'][-1]\n",
    "spy_last_price = df['SPY']['close'][-1]"
   ]
  },
  {
   "cell_type": "code",
   "execution_count": 10,
   "metadata": {},
   "outputs": [],
   "source": [
    "# Setup the Monte Carlo Parameters\n",
    "number_simulations = 500\n",
    "number_records = 252 * 30\n",
    "monte_carlo = pd.DataFrame()\n",
    "\n",
    "simulated_price_df = pd.DataFrame()\n",
    "portfolio_cumulative_returns = pd.DataFrame()"
   ]
  },
  {
   "cell_type": "code",
   "execution_count": 11,
   "metadata": {},
   "outputs": [
    {
     "data": {
      "text/html": [
       "<div>\n",
       "<style scoped>\n",
       "    .dataframe tbody tr th:only-of-type {\n",
       "        vertical-align: middle;\n",
       "    }\n",
       "\n",
       "    .dataframe tbody tr th {\n",
       "        vertical-align: top;\n",
       "    }\n",
       "\n",
       "    .dataframe thead th {\n",
       "        text-align: right;\n",
       "    }\n",
       "</style>\n",
       "<table border=\"1\" class=\"dataframe\">\n",
       "  <thead>\n",
       "    <tr style=\"text-align: right;\">\n",
       "      <th></th>\n",
       "      <th>0</th>\n",
       "      <th>1</th>\n",
       "      <th>2</th>\n",
       "      <th>3</th>\n",
       "      <th>4</th>\n",
       "      <th>5</th>\n",
       "      <th>6</th>\n",
       "      <th>7</th>\n",
       "      <th>8</th>\n",
       "      <th>9</th>\n",
       "      <th>...</th>\n",
       "      <th>490</th>\n",
       "      <th>491</th>\n",
       "      <th>492</th>\n",
       "      <th>493</th>\n",
       "      <th>494</th>\n",
       "      <th>495</th>\n",
       "      <th>496</th>\n",
       "      <th>497</th>\n",
       "      <th>498</th>\n",
       "      <th>499</th>\n",
       "    </tr>\n",
       "  </thead>\n",
       "  <tbody>\n",
       "    <tr>\n",
       "      <th>0</th>\n",
       "      <td>1.000000</td>\n",
       "      <td>1.000000</td>\n",
       "      <td>1.000000</td>\n",
       "      <td>1.000000</td>\n",
       "      <td>1.000000</td>\n",
       "      <td>1.000000</td>\n",
       "      <td>1.000000</td>\n",
       "      <td>1.000000</td>\n",
       "      <td>1.000000</td>\n",
       "      <td>1.000000</td>\n",
       "      <td>...</td>\n",
       "      <td>1.000000</td>\n",
       "      <td>1.000000</td>\n",
       "      <td>1.000000</td>\n",
       "      <td>1.000000</td>\n",
       "      <td>1.000000</td>\n",
       "      <td>1.000000</td>\n",
       "      <td>1.000000</td>\n",
       "      <td>1.000000</td>\n",
       "      <td>1.000000</td>\n",
       "      <td>1.000000</td>\n",
       "    </tr>\n",
       "    <tr>\n",
       "      <th>1</th>\n",
       "      <td>0.999029</td>\n",
       "      <td>0.999083</td>\n",
       "      <td>0.992256</td>\n",
       "      <td>1.018195</td>\n",
       "      <td>1.043403</td>\n",
       "      <td>0.975565</td>\n",
       "      <td>0.986581</td>\n",
       "      <td>1.048953</td>\n",
       "      <td>1.000541</td>\n",
       "      <td>0.978979</td>\n",
       "      <td>...</td>\n",
       "      <td>1.005236</td>\n",
       "      <td>0.968455</td>\n",
       "      <td>1.004330</td>\n",
       "      <td>1.007545</td>\n",
       "      <td>0.983231</td>\n",
       "      <td>1.009540</td>\n",
       "      <td>1.003406</td>\n",
       "      <td>1.023544</td>\n",
       "      <td>0.990025</td>\n",
       "      <td>0.976543</td>\n",
       "    </tr>\n",
       "    <tr>\n",
       "      <th>2</th>\n",
       "      <td>1.029079</td>\n",
       "      <td>1.012550</td>\n",
       "      <td>1.007948</td>\n",
       "      <td>0.980798</td>\n",
       "      <td>1.031475</td>\n",
       "      <td>0.971714</td>\n",
       "      <td>0.971817</td>\n",
       "      <td>1.020999</td>\n",
       "      <td>0.995098</td>\n",
       "      <td>0.967343</td>\n",
       "      <td>...</td>\n",
       "      <td>1.016865</td>\n",
       "      <td>0.972729</td>\n",
       "      <td>1.007442</td>\n",
       "      <td>1.018465</td>\n",
       "      <td>0.984271</td>\n",
       "      <td>0.961687</td>\n",
       "      <td>1.004893</td>\n",
       "      <td>1.015049</td>\n",
       "      <td>0.979248</td>\n",
       "      <td>0.989573</td>\n",
       "    </tr>\n",
       "    <tr>\n",
       "      <th>3</th>\n",
       "      <td>1.023714</td>\n",
       "      <td>1.007751</td>\n",
       "      <td>1.005820</td>\n",
       "      <td>0.983660</td>\n",
       "      <td>1.021188</td>\n",
       "      <td>0.943816</td>\n",
       "      <td>0.984449</td>\n",
       "      <td>0.994712</td>\n",
       "      <td>0.992220</td>\n",
       "      <td>0.996159</td>\n",
       "      <td>...</td>\n",
       "      <td>1.017918</td>\n",
       "      <td>0.946727</td>\n",
       "      <td>1.007785</td>\n",
       "      <td>1.032911</td>\n",
       "      <td>0.965110</td>\n",
       "      <td>0.969032</td>\n",
       "      <td>1.023672</td>\n",
       "      <td>0.987500</td>\n",
       "      <td>0.986176</td>\n",
       "      <td>1.003950</td>\n",
       "    </tr>\n",
       "    <tr>\n",
       "      <th>4</th>\n",
       "      <td>1.043525</td>\n",
       "      <td>1.014117</td>\n",
       "      <td>1.021323</td>\n",
       "      <td>0.997934</td>\n",
       "      <td>1.041707</td>\n",
       "      <td>0.953303</td>\n",
       "      <td>1.000903</td>\n",
       "      <td>0.968934</td>\n",
       "      <td>0.996600</td>\n",
       "      <td>1.011527</td>\n",
       "      <td>...</td>\n",
       "      <td>1.004825</td>\n",
       "      <td>0.957724</td>\n",
       "      <td>1.007200</td>\n",
       "      <td>1.005483</td>\n",
       "      <td>0.968357</td>\n",
       "      <td>0.963580</td>\n",
       "      <td>1.010419</td>\n",
       "      <td>0.996656</td>\n",
       "      <td>0.976892</td>\n",
       "      <td>1.004128</td>\n",
       "    </tr>\n",
       "  </tbody>\n",
       "</table>\n",
       "<p>5 rows × 500 columns</p>\n",
       "</div>"
      ],
      "text/plain": [
       "        0         1         2         3         4         5         6    \\\n",
       "0  1.000000  1.000000  1.000000  1.000000  1.000000  1.000000  1.000000   \n",
       "1  0.999029  0.999083  0.992256  1.018195  1.043403  0.975565  0.986581   \n",
       "2  1.029079  1.012550  1.007948  0.980798  1.031475  0.971714  0.971817   \n",
       "3  1.023714  1.007751  1.005820  0.983660  1.021188  0.943816  0.984449   \n",
       "4  1.043525  1.014117  1.021323  0.997934  1.041707  0.953303  1.000903   \n",
       "\n",
       "        7         8         9    ...       490       491       492       493  \\\n",
       "0  1.000000  1.000000  1.000000  ...  1.000000  1.000000  1.000000  1.000000   \n",
       "1  1.048953  1.000541  0.978979  ...  1.005236  0.968455  1.004330  1.007545   \n",
       "2  1.020999  0.995098  0.967343  ...  1.016865  0.972729  1.007442  1.018465   \n",
       "3  0.994712  0.992220  0.996159  ...  1.017918  0.946727  1.007785  1.032911   \n",
       "4  0.968934  0.996600  1.011527  ...  1.004825  0.957724  1.007200  1.005483   \n",
       "\n",
       "        494       495       496       497       498       499  \n",
       "0  1.000000  1.000000  1.000000  1.000000  1.000000  1.000000  \n",
       "1  0.983231  1.009540  1.003406  1.023544  0.990025  0.976543  \n",
       "2  0.984271  0.961687  1.004893  1.015049  0.979248  0.989573  \n",
       "3  0.965110  0.969032  1.023672  0.987500  0.986176  1.003950  \n",
       "4  0.968357  0.963580  1.010419  0.996656  0.976892  1.004128  \n",
       "\n",
       "[5 rows x 500 columns]"
      ]
     },
     "execution_count": 11,
     "metadata": {},
     "output_type": "execute_result"
    }
   ],
   "source": [
    "# Run the Monte Carlo Simulation\n",
    "for x in range(number_simulations):\n",
    "    # Initialize the simulated prices list with the last closing price of `AGG` and `SPY`\n",
    "    simulated_agg_prices = [agg_last_price]\n",
    "    simulated_spy_prices = [spy_last_price]\n",
    "    # Simulate the returns for 252 * 30\n",
    "    for i in range(number_records):\n",
    "        # Calculate the simulated price using the last price within the list\n",
    "        #ASSUMPTION: .normal distribution\n",
    "        simulated_agg_price = simulated_agg_prices[-1] * (1 + np.random.normal(avg_daily_return_agg, std_dev_daily_return_agg))\n",
    "        simulated_spy_price = simulated_spy_prices[-1] * (1 + np.random.normal(avg_daily_return_spy, std_dev_daily_return_spy))\n",
    "        # Append the simulated price to the list\n",
    "        simulated_agg_prices.append(simulated_agg_price)\n",
    "        simulated_spy_prices.append(simulated_spy_price)\n",
    "    # Append a simulated prices of each simulation to DataFrame\n",
    "    simulated_price_df[\"AGG prices\"] = pd.Series(simulated_agg_prices)\n",
    "    simulated_price_df[\"SPY prices\"] = pd.Series(simulated_spy_prices)\n",
    "    # Calculate the daily returns of simulated prices\n",
    "    simulated_daily_returns = simulated_price_df.pct_change()\n",
    "    # Set the portfolio weights (60% Stocks:SPY; 40% Bonds:AGG)\n",
    "    weights = [0.40, 0.60]\n",
    "    # Use the `dot` function with the weights to multiply weights with each column's simulated daily returns\n",
    "    portfolio_daily_returns = simulated_daily_returns.dot(weights)\n",
    "    # Calculate the normalized, cumulative return series\n",
    "    portfolio_cumulative_returns[x] = (1 + portfolio_daily_returns.fillna(0)).cumprod()\n",
    "    \n",
    "# Print records from the DataFrame\n",
    "portfolio_cumulative_returns.head()"
   ]
  },
  {
   "cell_type": "code",
   "execution_count": 12,
   "metadata": {},
   "outputs": [
    {
     "data": {
      "text/plain": [
       "<matplotlib.axes._subplots.AxesSubplot at 0x23fd33d6248>"
      ]
     },
     "execution_count": 12,
     "metadata": {},
     "output_type": "execute_result"
    },
    {
     "data": {
      "image/png": "[encoded data removed]",
      "text/plain": [
       "<Figure size 432x288 with 1 Axes>"
      ]
     },
     "metadata": {
      "needs_background": "light"
     },
     "output_type": "display_data"
    }
   ],
   "source": [
    "# Visualize the Simulation\n",
    "# YOUR CODE HERE\n",
    "\n",
    "plot_title = f\"{x+1} Simulations of a 60/40 Portfolio Over the Next 30 years\"\n",
    "portfolio_cumulative_returns.plot(legend=None, title=plot_title)"
   ]
  },
  {
   "cell_type": "code",
   "execution_count": 13,
   "metadata": {},
   "outputs": [
    {
     "data": {
      "text/plain": [
       "0    0.107586\n",
       "1    0.069887\n",
       "2    0.078095\n",
       "3    0.028584\n",
       "4    0.076340\n",
       "Name: 7560, dtype: float64"
      ]
     },
     "execution_count": 13,
     "metadata": {},
     "output_type": "execute_result"
    }
   ],
   "source": [
    "# Select the last row for the cumulative returns (cumulative returns at 30 years)\n",
    "# YOUR CODE HERE\n",
    "\n",
    "ending_cumulative_returns = portfolio_cumulative_returns.iloc[-1, :]\n",
    "ending_cumulative_returns.head()"
   ]
  },
  {
   "cell_type": "code",
   "execution_count": 14,
   "metadata": {},
   "outputs": [
    {
     "data": {
      "text/plain": [
       "0    0.224574\n",
       "1    0.170490\n",
       "2    0.108960\n",
       "3    0.070821\n",
       "4    0.876912\n",
       "Name: 5041, dtype: float64"
      ]
     },
     "execution_count": 14,
     "metadata": {},
     "output_type": "execute_result"
    }
   ],
   "source": [
    "# Select the last row for the cumulative returns (cumulative returns at 20 years)\n",
    "# YOUR CODE HERE\n",
    "\n",
    "ending_cumulative_returns = portfolio_cumulative_returns.iloc[-2520]\n",
    "ending_cumulative_returns.head()"
   ]
  },
  {
   "cell_type": "code",
   "execution_count": 15,
   "metadata": {},
   "outputs": [
    {
     "data": {
      "text/plain": [
       "0.05    0.027781\n",
       "0.95    1.821582\n",
       "Name: 5041, dtype: float64"
      ]
     },
     "execution_count": 15,
     "metadata": {},
     "output_type": "execute_result"
    }
   ],
   "source": [
    "# Display the 90% confidence interval for the ending returns\n",
    "# YOUR CODE HERE\n",
    "\n",
    "confidence_interval = ending_cumulative_returns.quantile(q=[0.05, 0.95])\n",
    "confidence_interval"
   ]
  },
  {
   "cell_type": "code",
   "execution_count": 16,
   "metadata": {},
   "outputs": [
    {
     "data": {
      "text/plain": [
       "<matplotlib.lines.Line2D at 0x23fd5c0f188>"
      ]
     },
     "execution_count": 16,
     "metadata": {},
     "output_type": "execute_result"
    },
    {
     "data": {
      "image/png": "[encoded data removed]",
      "text/plain": [
       "<Figure size 432x288 with 1 Axes>"
      ]
     },
     "metadata": {
      "needs_background": "light"
     },
     "output_type": "display_data"
    }
   ],
   "source": [
    "# Visualize the distribution of the ending returns\n",
    "# YOUR CODE HERE\n",
    "\n",
    "plt.figure();\n",
    "ending_cumulative_returns.plot(kind='hist', density=True, bins=10)\n",
    "plt.axvline(confidence_interval.iloc[0], color='r')\n",
    "plt.axvline(confidence_interval.iloc[1], color='r')"
   ]
  },
  {
   "cell_type": "markdown",
   "metadata": {},
   "source": [
    "---"
   ]
  },
  {
   "cell_type": "markdown",
   "metadata": {},
   "source": [
    "# Retirement Analysis\n",
    "\n",
    "In this section, you will use the monte carlo model to answer the following retirement planning questions:\n",
    "\n",
    "1. What are the expected cumulative returns at 30 years for the 10th, 50th, and 90th percentiles?\n",
    "2. Given an initial investment of `$20,000`, what is the expected portfolio return in dollars at the 10th, 50th, and 90th percentiles?\n",
    "3. Given the current projected annual income from the Plaid analysis, will a 4% withdraw rate from the retirement portfolio meet or exceed that value at the 10th percentile?\n",
    "4. How would a 50% increase in the initial investment amount affect the 4% retirement withdrawal?"
   ]
  },
  {
   "cell_type": "markdown",
   "metadata": {},
   "source": [
    "### What are the expected cumulative returns at 30 years for the 10th, 50th, and 90th percentiles?"
   ]
  },
  {
   "cell_type": "code",
   "execution_count": 20,
   "metadata": {},
   "outputs": [
    {
     "data": {
      "text/plain": [
       "0.1    0.046015\n",
       "Name: 5041, dtype: float64"
      ]
     },
     "execution_count": 20,
     "metadata": {},
     "output_type": "execute_result"
    }
   ],
   "source": [
    "#10th percentile expected cumulative returns\n",
    "ending_cumulative_returns_10 = ending_cumulative_returns.quantile(q=[.1])\n",
    "ending_cumulative_returns_10"
   ]
  },
  {
   "cell_type": "code",
   "execution_count": 21,
   "metadata": {},
   "outputs": [
    {
     "data": {
      "text/plain": [
       "0.5    0.236957\n",
       "Name: 5041, dtype: float64"
      ]
     },
     "execution_count": 21,
     "metadata": {},
     "output_type": "execute_result"
    }
   ],
   "source": [
    "#50th percentile expected cumulative returns\n",
    "ending_cumulative_returns_50 = ending_cumulative_returns.quantile(q=[.5])\n",
    "ending_cumulative_returns_50"
   ]
  },
  {
   "cell_type": "code",
   "execution_count": 22,
   "metadata": {},
   "outputs": [
    {
     "data": {
      "text/plain": [
       "0.9    1.165022\n",
       "Name: 5041, dtype: float64"
      ]
     },
     "execution_count": 22,
     "metadata": {},
     "output_type": "execute_result"
    }
   ],
   "source": [
    "#90th percentile expected cumulative returns\n",
    "ending_cumulative_returns_90 = ending_cumulative_returns.quantile(q=[.9])\n",
    "ending_cumulative_returns_90"
   ]
  },
  {
   "cell_type": "markdown",
   "metadata": {},
   "source": [
    "### Given an initial investment of `$20,000`, what is the expected portfolio return in dollars at the 10th, 50th, and 90th percentiles?"
   ]
  },
  {
   "cell_type": "code",
   "execution_count": 23,
   "metadata": {},
   "outputs": [
    {
     "name": "stdout",
     "output_type": "stream",
     "text": [
      "At the 10th percentile, an initial investment of $20,000 in the portfolio over the next 30 years will be $920.29. At the 50th percentile, an initial investment of $20,000 in the portfolio over the next 30 years will be $4739.13. At the 90th percentile, an initial investment of $20,000 in the portfolio over the next 30 years will be $23300.44\n"
     ]
    }
   ],
   "source": [
    "# YOUR CODE HERE\n",
    "\n",
    "# Set initial investment\n",
    "initial_investment = 20000\n",
    "# Calculate investment profit/loss of lower and upper bound cumulative portfolio returns\n",
    "investment_pnl_10 = initial_investment * ending_cumulative_returns_10.iloc[0]\n",
    "investment_pnl_50 = initial_investment * ending_cumulative_returns_50.iloc[0]\n",
    "investment_pnl_90 = initial_investment * ending_cumulative_returns_90.iloc[0]\n",
    "\n",
    "investment_pnl_10_rounded = np.round(investment_pnl_10, 2)\n",
    "investment_pnl_50_rounded = np.round(investment_pnl_50, 2)\n",
    "investment_pnl_90_rounded = np.round(investment_pnl_90, 2)\n",
    "\n",
    "# Print the results\n",
    "print(f\"At the 10th percentile, an initial investment of $20,000 in the portfolio \"\n",
    "      f\"over the next 30 years will be\" \n",
    "      f\" ${investment_pnl_10_rounded}.\"\n",
    "      f\" At the 50th percentile, an initial investment of $20,000 in the portfolio \"\n",
    "      f\"over the next 30 years will be\"\n",
    "      f\" ${investment_pnl_50_rounded}.\"\n",
    "      f\" At the 90th percentile, an initial investment of $20,000 in the portfolio \"\n",
    "      f\"over the next 30 years will be\"\n",
    "      f\" ${investment_pnl_90_rounded}\")"
   ]
  },
  {
   "cell_type": "markdown",
   "metadata": {},
   "source": [
    "### Given the current projected annual income from the Plaid analysis, will a 4% withdraw rate from the retirement portfolio meet or exceed that value at the 10th percentile?\n",
    "\n",
    "Note: This is effectively saying that 90% of the expected returns will be greater than the return at the 10th percentile, so this can help measure the uncertainty about having enough funds at retirement"
   ]
  },
  {
   "cell_type": "markdown",
   "metadata": {},
   "source": [
    "# YOUR CODE HERE \n",
    "\n",
    "**Withdrawal Analysis if Initial Investment is $20,000**\n",
    "\n",
    "At the 10th percentile your portfolio will only be worth ~920. The projected yearly income is $6,085. If the goal is to withdraw 4% of your portfolio such that it equals your currently projected yearly income, you will not have not nearly enough money to retire. "
   ]
  },
  {
   "cell_type": "markdown",
   "metadata": {},
   "source": [
    "### How would a 50% increase in the initial investment amount affect the 4% retirement withdrawal?"
   ]
  },
  {
   "cell_type": "code",
   "execution_count": 24,
   "metadata": {},
   "outputs": [
    {
     "name": "stdout",
     "output_type": "stream",
     "text": [
      "At the 10th percentile, an initial investment of $30,000 in the portfolio over the next 30 years will be $1380.44\n"
     ]
    }
   ],
   "source": [
    "# YOUR CODE HERE\n",
    "\n",
    "# Set initial investment\n",
    "initial_investment_2 = 30000\n",
    "# Calculate investment profit/loss of lower and upper bound cumulative portfolio returns\n",
    "investment_pnl_10_2 = initial_investment_2 * ending_cumulative_returns_10.iloc[0]\n",
    "\n",
    "investment_pnl_10_2_rounded = np.round(investment_pnl_10_2, 2)\n",
    "\n",
    "# Print the results\n",
    "print(f\"At the 10th percentile, an initial investment of $30,000 in the portfolio \"\n",
    "      f\"over the next 30 years will be\"\n",
    "      f\" ${investment_pnl_10_2_rounded}\")"
   ]
  },
  {
   "cell_type": "markdown",
   "metadata": {},
   "source": [
    "**Withdrawal Analysis if initial investment is increased 50% to $30,000**\n",
    "\n",
    "At the 10th percentile, the value of portfolio will only increase to ~$1380. This is still not nearly sufficient to retire. "
   ]
  },
  {
   "cell_type": "markdown",
   "metadata": {},
   "source": [
    "### Optional Challenge\n",
    "\n",
    "In this section, you will calculate and plot the cumulative returns for the median and 90% confidence intervals. This plot shows the expected cumulative returns for any given day between the first day and the last day of investment. "
   ]
  },
  {
   "cell_type": "code",
   "execution_count": null,
   "metadata": {},
   "outputs": [],
   "source": [
    "# YOUR CODE HERE"
   ]
  }
 ],
 "metadata": {
  "kernel_info": {
   "name": "dev"
  },
  "kernelspec": {
   "display_name": "Python 3",
   "language": "python",
   "name": "python3"
  },
  "language_info": {
   "codemirror_mode": {
    "name": "ipython",
    "version": 3
   },
   "file_extension": ".py",
   "mimetype": "text/x-python",
   "name": "python",
   "nbconvert_exporter": "python",
   "pygments_lexer": "ipython3",
   "version": "3.7.6"
  },
  "nteract": {
   "version": "0.12.3"
  }
 },
 "nbformat": 4,
 "nbformat_minor": 4
}
